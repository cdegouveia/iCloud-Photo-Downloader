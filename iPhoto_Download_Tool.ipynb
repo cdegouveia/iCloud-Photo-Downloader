{
 "cells": [
  {
   "cell_type": "markdown",
   "metadata": {
    "tags": []
   },
   "source": [
    "# IPHOTO ALBUM DOWNLOAD TOOL"
   ]
  },
  {
   "cell_type": "markdown",
   "metadata": {
    "tags": []
   },
   "source": [
    "#### This tool is designed to construct a local duplicate of a specified iCloud photo album. Upon generating the local copy, the tool systematically scans each image, compiling an inventory that includes any available GPS information. The resulting inventory, now populated with GPS coordinates, is stored in a local .csv file. This file can be parsed efficiently, offering an effective means to identify photos in close proximity to specified locations without the need to individually open each photo."
   ]
  },
  {
   "cell_type": "markdown",
   "metadata": {},
   "source": [
    "## START HERE TO LOAD MODULES AND BUILD SUB-ROUTINES"
   ]
  },
  {
   "cell_type": "code",
   "execution_count": null,
   "metadata": {
    "tags": []
   },
   "outputs": [],
   "source": [
    "from datetime import datetime\n",
    "from exif import Image\n",
    "import pyicloud\n",
    "from pyicloud import PyiCloudService\n",
    "import geopandas as gpd\n",
    "import time\n",
    "import csv\n",
    "\n",
    "def icloud_initiate(username = \"\", password = \"\"):\n",
    "    # Authenticate with your iCloud account\n",
    "    api = PyiCloudService(username, password)\n",
    "    if api.requires_2fa:\n",
    "        print(\"Two-factor authentication required.\")\n",
    "        code = input(\"Enter the code you received of one of your approved devices: \")\n",
    "        result = api.validate_2fa_code(code)\n",
    "        print(\"Code validation result: %s\" % result)\n",
    "        if not result:\n",
    "            print(\"Failed to verify security code\")\n",
    "            sys.exit(1)\n",
    "        if not api.is_trusted_session:\n",
    "            print(\"Session is not trusted. Requesting trust...\")\n",
    "            result = api.trust_session()\n",
    "            print(\"Session trust result %s\" % result)\n",
    "            if not result:\n",
    "                print(\"Failed to request trust. You will likely be prompted for the code again in the coming weeks\")\n",
    "    elif api.requires_2sa:\n",
    "        import click\n",
    "        print(\"Two-step authentication required. Your trusted devices are:\")\n",
    "        devices = api.trusted_devices\n",
    "        for i, device in enumerate(devices):\n",
    "            print(\n",
    "                \"  %s: %s\" % (i, device.get('deviceName',\n",
    "                \"SMS to %s\" % device.get('phoneNumber')))\n",
    "            )\n",
    "        device = click.prompt('Which device would you like to use?', default=0)\n",
    "        device = devices[device]\n",
    "        if not api.send_verification_code(device):\n",
    "            print(\"Failed to send verification code\")\n",
    "            sys.exit(1)\n",
    "        code = click.prompt('Please enter validation code')\n",
    "        if not api.validate_verification_code(device, code):\n",
    "            print(\"Failed to verify verification code\")\n",
    "            sys.exit(1)\n",
    "    return(api)\n",
    "\n",
    "def download_missing_icloud_photos(destination_folder = \"\", api=\"\"):\n",
    "    tic = time.perf_counter()\n",
    "    photos = api.photos.all\n",
    "    files_checked_count = 0\n",
    "    new_files_found_count = 0\n",
    "    file_list = []\n",
    "    total_count = len(photos)\n",
    "    local_file_list=[]\n",
    "    for file in os.listdir(destination_folder):\n",
    "        local_file_list.append(os.path.splitext(file)[0])\n",
    "    for photo in photos:\n",
    "        files_checked_count +=1\n",
    "        file_extension = os.path.splitext(photo.filename)\n",
    "        new_filename = format(photo.created.timestamp(),\".3f\") + file_extension[1]\n",
    "        photo_filename = os.path.join(destination_folder, new_filename)\n",
    "        if os.path.splitext(new_filename)[0] in local_file_list:\n",
    "            pass\n",
    "        else:\n",
    "            new_files_found_count +=1\n",
    "            with open(photo_filename, 'wb') as opened_file:\n",
    "                opened_file.write(photo.download().content)\n",
    "        print(\"New iPhotos found on icloud = \" + str(new_files_found_count) + \" (Checking: \" + str(files_checked_count) + \" of \" + str(total_count) + \")\", end =\"\\r\")\n",
    "    print(\"\\nMissing photos download done! Now run 'quick_photo_csv' or 'full_photo_csv'.\")\n",
    "    toc = time.perf_counter()\n",
    "    print(f\"Time taken: {(toc - tic)/60:0.4f} minutes\")\n",
    "    return()\n",
    "\n",
    "def download_new_icloud_photos(destination_folder = \"\", api=\"\"):\n",
    "    photos = api.photos.all\n",
    "    files_checked_count = 0\n",
    "    new_files_found_count = 0\n",
    "    file_list = []\n",
    "    total_count = len(photos)\n",
    "    local_file_list=[]\n",
    "    for file in os.listdir(destination_folder):\n",
    "        local_file_list.append(os.path.splitext(file)[0])\n",
    "    for photo in photos:\n",
    "        files_checked_count +=1\n",
    "        file_extension = os.path.splitext(photo.filename)\n",
    "        new_filename = format(photo.created.timestamp(),\".3f\") + file_extension[1]\n",
    "        photo_filename = os.path.join(destination_folder, new_filename)\n",
    "        if os.path.splitext(new_filename)[0] in local_file_list:\n",
    "            pass\n",
    "        else:\n",
    "            new_files_found_count +=1\n",
    "            with open(photo_filename, 'wb') as opened_file:\n",
    "                opened_file.write(photo.download().content)\n",
    "        print(\"New iPhotos found on icloud = \" + str(new_files_found_count) + \" (Checking: \" + str(files_checked_count) + \" of \" + str(total_count) + \")\", end =\"\\r\")\n",
    "        if files_checked_count - new_files_found_count > 20:\n",
    "            break\n",
    "    print(\"\\nNew photos download done! Now run 'quick_photo_csv' or 'full_photo_csv'.\")\n",
    "    return()\n",
    "\n",
    "def download_all_icloud_photos_again(destination_folder = \"\", api=\"\"):\n",
    "    tic = time.perf_counter()\n",
    "    photos = api.photos.all\n",
    "    files_downloaded_count = 0\n",
    "    total_count = len(photos)\n",
    "    for photo in photos:\n",
    "        files_downloaded_count +=1\n",
    "        file_extension = os.path.splitext(photo.filename)\n",
    "        new_filename = format(photo.created.timestamp(),\".3f\") + file_extension[1]\n",
    "        photo_filename = os.path.join(destination_folder, new_filename)\n",
    "        with open(photo_filename, 'wb') as opened_file:\n",
    "            opened_file.write(photo.download().content)\n",
    "        print(\"iPhotos downloaded from icloud = \" + str(files_downloaded_count) + \" of \" + str(total_count) + \")\", end =\"\\r\")\n",
    "    print(\"\\niCloud photos full download complete! Now run 'quick_photo_csv' or 'full_photo_csv'.\")\n",
    "    toc = time.perf_counter()\n",
    "    print(f\"Time taken: {(toc - tic)/60:0.4f} minutes\")\n",
    "    return()\n",
    "\n",
    "def quick_photo_csv(destination_folder = \"\"):\n",
    "    tic = time.perf_counter()\n",
    "    photo_list_file = os.path.join(destination_folder, \"list_of_photos.csv\")\n",
    "    file_list = []\n",
    "    file_list_name = []\n",
    "    if os.path.exists(photo_list_file) != True:\n",
    "        file_list=[[\"File Name\", \"File type\", \"Device\", \"Date\", \"Lattitude\", \"Longitude\"]]\n",
    "    else:\n",
    "        with open(photo_list_file, 'r') as file:\n",
    "            csvreader = csv.reader(file)\n",
    "            for row in csvreader:\n",
    "                file_list.append(row)\n",
    "                file_list_name.append(row[0])\n",
    "    print(\"Opened 'List_of_photos.csv'. Looking for missed records.\")\n",
    "    files_checked_count = 0\n",
    "    new_files_found = 0\n",
    "    photo_quantity = len(os.listdir(destination_folder))\n",
    "    for photo in os.listdir(destination_folder):\n",
    "        files_checked_count +=1\n",
    "        if os.path.splitext(photo)[0] in file_list_name:\n",
    "            pass\n",
    "        else:\n",
    "            if os.path.splitext(photo)[1] == \".JPG\" or os.path.splitext(photo)[1] == \".MOV\":\n",
    "                new_files_found +=1\n",
    "                image_exif = get_image_coordinates(destination_folder + \"\\\\\" + photo)\n",
    "                date = image_exif[0]\n",
    "                coords_lat = image_exif[1]\n",
    "                coords_long = image_exif[2]\n",
    "                new_file=[os.path.splitext(photo)[0],os.path.splitext(photo)[1],\"iPhoto\", date, coords_lat, coords_long]\n",
    "                file_list.append(new_file)\n",
    "        print(\"Checking file \" + str(files_checked_count) + \" of \" + str(photo_quantity) + \". New JPG or MOV files found = \" + str(new_files_found), end =\"\\r\")\n",
    "    with open(photo_list_file, 'w', newline='') as f:\n",
    "        writer = csv.writer(f)\n",
    "        writer.writerows(file_list)\n",
    "    print(\"\\nUpdated photo register written to 'List_of_photos.csv'.\")\n",
    "    toc = time.perf_counter()\n",
    "    print(f\"Time taken: {(toc - tic)/60:0.4f} minutes\")\n",
    "    return()\n",
    "\n",
    "def full_photo_csv(destination_folder = \"\"):\n",
    "    tic = time.perf_counter()\n",
    "    print(\"Proceeding to gather info on disk contents. This will take a while.\")\n",
    "    files_checked_count =0\n",
    "    file_list=[[\"File Name\", \"File type\", \"Device\", \"Date\", \"Lattitude\", \"Longitude\"]]\n",
    "    photo_quantity = len(os.listdir(destination_folder))\n",
    "    for photo in os.listdir(destination_folder):\n",
    "        files_checked_count +=1\n",
    "        if os.path.splitext(photo)[1] == \".JPG\" or os.path.splitext(photo)[1] == \".MOV\":\n",
    "            image_exif = get_image_coordinates(destination_folder + \"\\\\\" + photo)\n",
    "            date = image_exif[0]\n",
    "            coords_lat = image_exif[1]\n",
    "            coords_long = image_exif[2]\n",
    "            new_file=[os.path.splitext(photo)[0],os.path.splitext(photo)[1],\"iPhoto\", date, coords_lat, coords_long]\n",
    "            file_list.append(new_file)\n",
    "        print(\"Photos resolved = \" + str(files_checked_count) + \" of \" + str(photo_quantity), end =\"\\r\")\n",
    "    photo_list_file = os.path.join(destination_folder, \"list_of_photos.csv\")\n",
    "    with open(photo_list_file, 'w', newline='') as f:\n",
    "        writer = csv.writer(f)\n",
    "        writer.writerows(file_list)\n",
    "    print(\"\\nNew photo register written to 'List_of_photos.csv'.\")\n",
    "    toc = time.perf_counter()\n",
    "    print(f\"Time taken: {(toc - tic)/60:0.4f} minutes\")\n",
    "    return()\n",
    "\n",
    "def get_image_coordinates(image_file):\n",
    "    date = 0\n",
    "    coords_lat = 0\n",
    "    coords_long = 0\n",
    "    try:\n",
    "        with open(image_file, 'rb') as src:\n",
    "            img = Image(src)\n",
    "            date=('')\n",
    "            coords=(0,0)\n",
    "            if img.has_exif:\n",
    "                try:\n",
    "                    date = img.datetime_original\n",
    "                except:\n",
    "                    pass\n",
    "                try:\n",
    "                    coords_lat = decimal_coords(img.gps_latitude,img.gps_latitude_ref)\n",
    "                    coords_long = decimal_coords(img.gps_longitude,img.gps_longitude_ref)\n",
    "                except AttributeError:\n",
    "                    if os.path.splitext(image_file)[1] != \".MOV\":\n",
    "                        print(\"File may be corrupt: \" + image_file)\n",
    "                    pass\n",
    "            else:\n",
    "                pass\n",
    "    except:\n",
    "        if os.path.splitext(image_file)[1] != \".MOV\":\n",
    "            print(\"File may be corrupt: \" + image_file)\n",
    "        pass\n",
    "    return (date, coords_lat, coords_long)\n",
    "\n",
    "def decimal_coords(coords, ref):\n",
    "    decimal_degrees = coords[0] + coords[1] / 60 + coords[2] / 3600\n",
    "    if ref == 'S' or ref == 'W':\n",
    "        decimal_degrees = -decimal_degrees\n",
    "    return decimal_degrees"
   ]
  },
  {
   "cell_type": "markdown",
   "metadata": {},
   "source": [
    "## SET PHOTO FOLDER LOCATION AND iCLOUD LOGIN CREDENTIALS"
   ]
  },
  {
   "cell_type": "code",
   "execution_count": null,
   "metadata": {
    "tags": []
   },
   "outputs": [],
   "source": [
    "##Authenticate and initilise photo location\n",
    "username = 'my_email@address'\n",
    "password = 'my_password'\n",
    "iphoto_folder_destination = \"D:\\\\my_repository_folder\"\n",
    "os.path.exists(iphoto_folder_destination)\n",
    "print(\"File location = \" + iphoto_folder_destination + \" - \" + str(os.path.exists(iphoto_folder_destination)))"
   ]
  },
  {
   "cell_type": "markdown",
   "metadata": {},
   "source": [
    "## COME HERE TO DOWNLOAD PHOTOS FROM iCLOUD"
   ]
  },
  {
   "cell_type": "code",
   "execution_count": null,
   "metadata": {},
   "outputs": [],
   "source": [
    "#Download NEW photos from iPhoto album. Quickest!\n",
    "#This can run in the background as the CSV file will not be updated automatically.\n",
    "api = icloud_initiate(username = username, password = password) #Login to iCloud\n",
    "download_new_icloud_photos(iphoto_folder_destination, api)"
   ]
  },
  {
   "cell_type": "code",
   "execution_count": null,
   "metadata": {
    "tags": []
   },
   "outputs": [],
   "source": [
    "#Download MISSING photos from iPhoto album. Not the quickest. This will a little time to complete!\n",
    "#This can run in the background as the CSV file will not be updated automatically.\n",
    "api = icloud_initiate(username = username, password = password) #Login to iCloud\n",
    "download_missing_icloud_photos(iphoto_folder_destination, api)"
   ]
  },
  {
   "cell_type": "code",
   "execution_count": null,
   "metadata": {
    "tags": []
   },
   "outputs": [],
   "source": [
    "#Download FULL content of iPhoto album. This is SLOW!!! This will take many hours to complete!\n",
    "#This can run in the background as the CSV file will not be updated automatically.\n",
    "api = icloud_initiate(username = username, password = password) #Login to iCloud\n",
    "download_all_icloud_photos_again(iphoto_folder_destination, api)"
   ]
  },
  {
   "cell_type": "markdown",
   "metadata": {},
   "source": [
    "## COME HERE TO UPDATE .CSV PHOTO REGISTER"
   ]
  },
  {
   "cell_type": "code",
   "execution_count": null,
   "metadata": {
    "tags": []
   },
   "outputs": [],
   "source": [
    "#Check the photo register for missing photos. Quickest!\n",
    "quick_photo_csv(iphoto_folder_destination)"
   ]
  },
  {
   "cell_type": "code",
   "execution_count": null,
   "metadata": {
    "tags": []
   },
   "outputs": [],
   "source": [
    "#Do a full refresh of the photo register. Not the quickest. This will take a couple hours!\n",
    "full_photo_csv(iphoto_folder_destination)"
   ]
  },
  {
   "cell_type": "markdown",
   "metadata": {},
   "source": [
    "## COME HERE TO PERFORM A TYPICAL 'NEW PHOTO'S DOWNLOAD AND A QUICK REGISTER UPDATE' (AFTER AUTHENTICATE IS DONE FIRST)."
   ]
  },
  {
   "cell_type": "code",
   "execution_count": null,
   "metadata": {
    "tags": []
   },
   "outputs": [],
   "source": [
    "api = icloud_initiate(username = username, password = password) #Login to iCloud\n",
    "download_new_icloud_photos(iphoto_folder_destination, api)\n",
    "quick_photo_csv(iphoto_folder_destination)"
   ]
  },
  {
   "cell_type": "code",
   "execution_count": null,
   "metadata": {},
   "outputs": [],
   "source": []
  }
 ],
 "metadata": {
  "kernelspec": {
   "display_name": "Python 3 (ipykernel)",
   "language": "python",
   "name": "python3"
  },
  "language_info": {
   "codemirror_mode": {
    "name": "ipython",
    "version": 3
   },
   "file_extension": ".py",
   "mimetype": "text/x-python",
   "name": "python",
   "nbconvert_exporter": "python",
   "pygments_lexer": "ipython3",
   "version": "3.11.5"
  }
 },
 "nbformat": 4,
 "nbformat_minor": 4
}
